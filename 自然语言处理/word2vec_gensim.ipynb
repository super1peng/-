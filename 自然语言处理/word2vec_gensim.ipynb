{
 "cells": [
  {
   "cell_type": "code",
   "execution_count": 1,
   "metadata": {},
   "outputs": [],
   "source": [
    "from gensim.models import word2vec\n",
    "import logging # 对打印的日志进行个性化定义\n",
    "\n",
    "logging.basicConfig(format='%(asctime)s : %(levelname)s : %(message)s', level=logging.INFO)"
   ]
  },
  {
   "cell_type": "code",
   "execution_count": 2,
   "metadata": {},
   "outputs": [],
   "source": [
    "raw_sentences = [\"the quick brown fox jumps over the lazy dogs\", \"yoyoyou you go home now to sleep\"]\n"
   ]
  },
  {
   "cell_type": "code",
   "execution_count": 3,
   "metadata": {},
   "outputs": [
    {
     "name": "stdout",
     "output_type": "stream",
     "text": [
      "[['the', 'quick', 'brown', 'fox', 'jumps', 'over', 'the', 'lazy', 'dogs'], ['yoyoyou', 'you', 'go', 'home', 'now', 'to', 'sleep']]\n"
     ]
    }
   ],
   "source": [
    "sentences = [s.split() for s in raw_sentences]\n",
    "print(sentences)"
   ]
  },
  {
   "cell_type": "code",
   "execution_count": 4,
   "metadata": {},
   "outputs": [
    {
     "name": "stderr",
     "output_type": "stream",
     "text": [
      "2018-04-03 15:16:34,048 : INFO : collecting all words and their counts\n",
      "2018-04-03 15:16:34,050 : INFO : PROGRESS: at sentence #0, processed 0 words, keeping 0 word types\n",
      "2018-04-03 15:16:34,050 : INFO : collected 15 word types from a corpus of 16 raw words and 2 sentences\n",
      "2018-04-03 15:16:34,052 : INFO : Loading a fresh vocabulary\n",
      "2018-04-03 15:16:34,053 : INFO : min_count=1 retains 15 unique words (100% of original 15, drops 0)\n",
      "2018-04-03 15:16:34,054 : INFO : min_count=1 leaves 16 word corpus (100% of original 16, drops 0)\n",
      "2018-04-03 15:16:34,059 : INFO : deleting the raw counts dictionary of 15 items\n",
      "2018-04-03 15:16:34,063 : INFO : sample=0.001 downsamples 15 most-common words\n",
      "2018-04-03 15:16:34,064 : INFO : downsampling leaves estimated 2 word corpus (13.7% of prior 16)\n",
      "2018-04-03 15:16:34,065 : INFO : estimated required memory for 15 words and 100 dimensions: 19500 bytes\n",
      "2018-04-03 15:16:34,066 : INFO : resetting layer weights\n",
      "2018-04-03 15:16:34,069 : INFO : training model with 3 workers on 15 vocabulary and 100 features, using sg=0 hs=0 sample=0.001 negative=5 window=5\n",
      "2018-04-03 15:16:34,074 : INFO : worker thread finished; awaiting finish of 2 more threads\n",
      "2018-04-03 15:16:34,076 : INFO : worker thread finished; awaiting finish of 1 more threads\n",
      "2018-04-03 15:16:34,077 : INFO : worker thread finished; awaiting finish of 0 more threads\n",
      "2018-04-03 15:16:34,078 : INFO : EPOCH - 1 : training on 16 raw words (2 effective words) took 0.0s, 525 effective words/s\n",
      "2018-04-03 15:16:34,082 : INFO : worker thread finished; awaiting finish of 2 more threads\n",
      "2018-04-03 15:16:34,083 : INFO : worker thread finished; awaiting finish of 1 more threads\n",
      "2018-04-03 15:16:34,084 : INFO : worker thread finished; awaiting finish of 0 more threads\n",
      "2018-04-03 15:16:34,085 : INFO : EPOCH - 2 : training on 16 raw words (3 effective words) took 0.0s, 835 effective words/s\n",
      "2018-04-03 15:16:34,089 : INFO : worker thread finished; awaiting finish of 2 more threads\n",
      "2018-04-03 15:16:34,090 : INFO : worker thread finished; awaiting finish of 1 more threads\n",
      "2018-04-03 15:16:34,091 : INFO : worker thread finished; awaiting finish of 0 more threads\n",
      "2018-04-03 15:16:34,093 : INFO : EPOCH - 3 : training on 16 raw words (1 effective words) took 0.0s, 288 effective words/s\n",
      "2018-04-03 15:16:34,104 : INFO : worker thread finished; awaiting finish of 2 more threads\n",
      "2018-04-03 15:16:34,105 : INFO : worker thread finished; awaiting finish of 1 more threads\n",
      "2018-04-03 15:16:34,106 : INFO : worker thread finished; awaiting finish of 0 more threads\n",
      "2018-04-03 15:16:34,107 : INFO : EPOCH - 4 : training on 16 raw words (2 effective words) took 0.0s, 618 effective words/s\n",
      "2018-04-03 15:16:34,110 : INFO : worker thread finished; awaiting finish of 2 more threads\n",
      "2018-04-03 15:16:34,113 : INFO : worker thread finished; awaiting finish of 1 more threads\n",
      "2018-04-03 15:16:34,114 : INFO : worker thread finished; awaiting finish of 0 more threads\n",
      "2018-04-03 15:16:34,115 : INFO : EPOCH - 5 : training on 16 raw words (2 effective words) took 0.0s, 368 effective words/s\n",
      "2018-04-03 15:16:34,117 : INFO : training on a 80 raw words (10 effective words) took 0.0s, 214 effective words/s\n",
      "2018-04-03 15:16:34,118 : WARNING : under 10 jobs per worker: consider setting a smaller `batch_words' for smoother alpha decay\n"
     ]
    }
   ],
   "source": [
    "model = word2vec.Word2Vec(sentences, min_count=1)"
   ]
  },
  {
   "cell_type": "code",
   "execution_count": 6,
   "metadata": {},
   "outputs": [
    {
     "name": "stderr",
     "output_type": "stream",
     "text": [
      "/Users/lxp/Library/Python/3.6/lib/python/site-packages/ipykernel_launcher.py:1: DeprecationWarning: Call to deprecated `similarity` (Method will be removed in 4.0.0, use self.wv.similarity() instead).\n",
      "  \"\"\"Entry point for launching an IPython kernel.\n"
     ]
    },
    {
     "data": {
      "text/plain": [
       "-0.12045201135815234"
      ]
     },
     "execution_count": 6,
     "metadata": {},
     "output_type": "execute_result"
    }
   ],
   "source": [
    "model.similarity('dogs','you')"
   ]
  },
  {
   "cell_type": "markdown",
   "metadata": {},
   "source": [
    "## 参数解释\n",
    "### min_count\n",
    "在不同大小的语料集中，我们对于基准词频的需求也是不一样的。譬如在较大的语料集中，我们希望忽略那些只出现过一次两次的单词，这里我们就可以通过设置 min_count 参数进行控制。。一般而言，合理的参数值会设置在 0~100 之间。\n",
    "\n",
    "### size\n",
    "size 参数主要用来设置神经网络的层数，Word2Vec 中默认值设置为100层，更大的层次设置意味着更多的输入数据，不过也能提升整体的准确度，合理的设置范围为 10~整百"
   ]
  }
 ],
 "metadata": {
  "kernelspec": {
   "display_name": "Python 3",
   "language": "python",
   "name": "python3"
  },
  "language_info": {
   "codemirror_mode": {
    "name": "ipython",
    "version": 3
   },
   "file_extension": ".py",
   "mimetype": "text/x-python",
   "name": "python",
   "nbconvert_exporter": "python",
   "pygments_lexer": "ipython3",
   "version": "3.6.1"
  }
 },
 "nbformat": 4,
 "nbformat_minor": 2
}
