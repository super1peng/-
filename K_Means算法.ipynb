{
 "cells": [
  {
   "cell_type": "markdown",
   "metadata": {},
   "source": [
    "## K-means算法"
   ]
  },
  {
   "cell_type": "markdown",
   "metadata": {},
   "source": [
    "1. 从D中随机选择k个样本作为初始均值向量\n",
    "2. repeat\n",
    "   1. 令 C_i = 0\n",
    "   2. for j=1,2,...m\n",
    "       计算 $d_{ji}$ = ${||x_j-\\mu_i||}_2$\n",
    "       \n",
    "       选择最近的均值向量$x_j$,放入C_i\n",
    "   3. 计算新的均值向量\n",
    "       $\\hat{\\mu} = \\frac{1}{|C_i|}\\sum{x}$\n",
    "       \n",
    "       更新当前均值向量\n",
    "   4. 结束"
   ]
  },
  {
   "cell_type": "code",
   "execution_count": 2,
   "metadata": {},
   "outputs": [],
   "source": [
    "import random\n",
    "import numpy as np\n",
    "import matplotlib.pyplot as plt\n",
    "from collections import defaultdict #当dict没有是 默认初始化为 某种形式\n",
    "\n",
    "%matplotlib inline"
   ]
  },
  {
   "cell_type": "code",
   "execution_count": 3,
   "metadata": {},
   "outputs": [],
   "source": [
    "watermelon = np.array([[ 0.697  ,0.46 ],\n",
    "                         [ 0.774  ,0.376],\n",
    "                         [ 0.634  ,0.264],\n",
    "                         [ 0.608  ,0.318],\n",
    "                         [ 0.556  ,0.215],\n",
    "                         [ 0.403  ,0.237],\n",
    "                         [ 0.481  ,0.149],\n",
    "                         [ 0.437  ,0.211],\n",
    "                         [ 0.666  ,0.091],\n",
    "                         [ 0.243  ,0.267],\n",
    "                         [ 0.245  ,0.057],\n",
    "                         [ 0.343  ,0.099],\n",
    "                         [ 0.639  ,0.161],\n",
    "                         [ 0.657  ,0.198],\n",
    "                         [ 0.36   ,0.37 ],\n",
    "                         [ 0.593  ,0.042],\n",
    "                         [ 0.719  ,0.103],\n",
    "                         [ 0.359  ,0.188],\n",
    "                         [ 0.339  ,0.241],\n",
    "                         [ 0.282  ,0.257],\n",
    "                         [ 0.748  ,0.232],\n",
    "                         [ 0.714  ,0.346],\n",
    "                         [ 0.483  ,0.312],\n",
    "                         [ 0.478  ,0.437],\n",
    "                         [ 0.525  ,0.369],\n",
    "                         [ 0.751  ,0.489],\n",
    "                         [ 0.532  ,0.472],\n",
    "                         [ 0.473  ,0.376],\n",
    "                         [ 0.725  ,0.445],\n",
    "                         [ 0.446  ,0.459]])"
   ]
  },
  {
   "cell_type": "code",
   "execution_count": 77,
   "metadata": {},
   "outputs": [],
   "source": [
    "# 计算欧几里得距离\n",
    "import math\n",
    "def euclidean_distance(x1, x2):\n",
    "    distance = 0\n",
    "    # Squared distance between each coordinate\n",
    "    for i in range(len(x1)):\n",
    "        distance += pow((x1[i] - x2[i]), 2)\n",
    "    return math.sqrt(distance)"
   ]
  },
  {
   "cell_type": "code",
   "execution_count": 78,
   "metadata": {},
   "outputs": [],
   "source": [
    "# 计算欧几里得距离\n",
    "import math\n",
    "def distance(x1, x2):\n",
    "    distance = 0\n",
    "    # Squared distance between each coordinate\n",
    "    for i in range(len(x1)):\n",
    "        for j in range(len(x1[i])):\n",
    "            distance += pow((x1[i][j] - x2[i][j]), 2)\n",
    "    return math.sqrt(distance)"
   ]
  },
  {
   "cell_type": "code",
   "execution_count": 82,
   "metadata": {},
   "outputs": [],
   "source": [
    "def kmeans(data, k=3):\n",
    "    m = data.shape[0]\n",
    "    index = random.sample(range(m),k)\n",
    "    mu = data[index] # 随机选择初始均值向量\n",
    "    \n",
    "    \n",
    "    while True:\n",
    "        C = defaultdict(list)\n",
    "        \n",
    "        for j in range(0, m):\n",
    "            dij = [euclidean_distance(data[j],mu[i]) for i in range(k)]\n",
    "            lambda_j = np.argmin(dij)   #选择最小的值得下标\n",
    "    \n",
    "    \n",
    "            C[lambda_j].append(data[j].tolist())\n",
    "        \n",
    "        new_mu = [np.mean(C[i],axis=0).tolist() for i in range(k)]\n",
    "             \n",
    "        if distance(np.array(new_mu),np.array(mu))> 1e-9:\n",
    "            mu = new_mu\n",
    "        else:\n",
    "            break\n",
    "    return C,mu"
   ]
  },
  {
   "cell_type": "code",
   "execution_count": 83,
   "metadata": {},
   "outputs": [],
   "source": [
    "k = 2\n",
    "res,mu = kmeans(watermelon,k) "
   ]
  },
  {
   "cell_type": "code",
   "execution_count": 84,
   "metadata": {},
   "outputs": [
    {
     "data": {
      "image/png": "[encoded data removed]",
      "text/plain": [
       "<matplotlib.figure.Figure at 0x11049b668>"
      ]
     },
     "metadata": {},
     "output_type": "display_data"
    }
   ],
   "source": [
    "for i in range(k):\n",
    "    res_i = np.array(res[i])\n",
    "    plt.scatter(res_i[:,0],res_i[:,1])\n",
    "plt.show()"
   ]
  }
 ],
 "metadata": {
  "kernelspec": {
   "display_name": "Python 3",
   "language": "python",
   "name": "python3"
  },
  "language_info": {
   "codemirror_mode": {
    "name": "ipython",
    "version": 3
   },
   "file_extension": ".py",
   "mimetype": "text/x-python",
   "name": "python",
   "nbconvert_exporter": "python",
   "pygments_lexer": "ipython3",
   "version": "3.6.1"
  }
 },
 "nbformat": 4,
 "nbformat_minor": 2
}
