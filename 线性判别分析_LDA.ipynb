{
 "cells": [
  {
   "cell_type": "markdown",
   "metadata": {},
   "source": [
    "PCA是一种无监督的数据降维方法，LDA是一种有监督的数据降维方法。LDA在进行数据降维的时候利用数据的列别标签提供的信息。  \n",
    "PCA和LDA都是将数据投影到新的相互正交的坐标轴上，只不过在投影的时候约束（也可说是目标）是不同的。  \n",
    "PCA将数据投影到方法最大的几个相互正交的方向上，以期待保留最多的样本信息。样本的方差越大表示样本的多样性越好。在训练模型的时候，我们当然希望数据的差别越大越好。否则即使样本很多但是他们彼此相似或者相同，提供的样本信息将相同，相当于只有很少的样本提供信息是有用的。样本信息不足将导致模型性能不够理想。这就是PCA降维的目标：将数据投影到方差最大的几个相互正交的方向上。"
   ]
  },
  {
   "cell_type": "markdown",
   "metadata": {},
   "source": [
    "LDA的思想可以用一句话来概括“投影后类内方差最小，类间方法最大”。我们要将数据在低维度上进行投影，投影后希望每一种类别数据的投影点尽可能的接近，而不同类别的数据的类别中心之间的距离尽可能的大。"
   ]
  },
  {
   "cell_type": "code",
   "execution_count": 1,
   "metadata": {},
   "outputs": [],
   "source": [
    "import os\n",
    "import sys\n",
    "import numpy as np\n",
    "import operator\n",
    "import matplotlib.pyplot as plt\n",
    "\n",
    "%matplotlib inline"
   ]
  },
  {
   "cell_type": "code",
   "execution_count": 2,
   "metadata": {},
   "outputs": [],
   "source": [
    "# 构造数据\n",
    "group1 = np.random.random((8,2))*5+20\n",
    "group2 = np.random.random((8,2))*5+2"
   ]
  },
  {
   "cell_type": "code",
   "execution_count": 4,
   "metadata": {},
   "outputs": [
    {
     "data": {
      "text/plain": [
       "array([[ 2.45104624,  2.15878335],\n",
       "       [ 3.5410994 ,  2.99302171],\n",
       "       [ 6.03355906,  2.82150458],\n",
       "       [ 6.25068248,  3.06545401],\n",
       "       [ 6.05697543,  5.93630641],\n",
       "       [ 5.12154892,  3.79075884],\n",
       "       [ 4.71877884,  6.12404899],\n",
       "       [ 4.19140491,  3.1205358 ]])"
      ]
     },
     "execution_count": 4,
     "metadata": {},
     "output_type": "execute_result"
    }
   ],
   "source": [
    "group2"
   ]
  },
  {
   "cell_type": "code",
   "execution_count": 5,
   "metadata": {},
   "outputs": [
    {
     "data": {
      "text/plain": [
       "array([[ 20.50029594,  20.79929591],\n",
       "       [ 20.40051067,  23.27010805],\n",
       "       [ 23.58110158,  22.44462386],\n",
       "       [ 20.35066766,  21.55881074],\n",
       "       [ 24.14751832,  24.01173976],\n",
       "       [ 20.24258429,  22.45327825],\n",
       "       [ 22.78927107,  23.8773502 ],\n",
       "       [ 23.10762488,  21.09968438]])"
      ]
     },
     "execution_count": 5,
     "metadata": {},
     "output_type": "execute_result"
    }
   ],
   "source": [
    "group1"
   ]
  },
  {
   "cell_type": "code",
   "execution_count": 6,
   "metadata": {},
   "outputs": [],
   "source": [
    "# 加标签\n",
    "X1 = group1\n",
    "y1 = np.ones((8,1))\n",
    "X0 = group2\n",
    "y0 = np.zeros((8,1))"
   ]
  },
  {
   "cell_type": "code",
   "execution_count": 7,
   "metadata": {},
   "outputs": [
    {
     "data": {
      "text/plain": [
       "<matplotlib.collections.PathCollection at 0x1101d7748>"
      ]
     },
     "execution_count": 7,
     "metadata": {},
     "output_type": "execute_result"
    },
    {
     "data": {
      "image/png": "[encoded data removed]",
      "text/plain": [
       "<matplotlib.figure.Figure at 0x110160358>"
      ]
     },
     "metadata": {},
     "output_type": "display_data"
    }
   ],
   "source": [
    "plt.scatter(X1[:,0],X1[:,1],c='r')\n",
    "plt.scatter(X0[:,0],X0[:,1],c='g')"
   ]
  },
  {
   "cell_type": "code",
   "execution_count": 9,
   "metadata": {},
   "outputs": [],
   "source": [
    "# 得到每一组的平均值  u1 u0\n",
    "mean1 = np.array([np.mean(X1[:,0]), np.mean(X1[:,1])])\n",
    "mean0 = np.array([np.mean(X0[:,0]), np.mean(X0[:,1])])"
   ]
  },
  {
   "cell_type": "code",
   "execution_count": 10,
   "metadata": {},
   "outputs": [],
   "source": [
    "# sw类内散度矩阵， \n",
    "\n",
    "from numpy import mat\n",
    "m1 = np.shape(X1)[0]\n",
    "sw = np.zeros(shape=(2,2))\n",
    "for i in range(m1):\n",
    "    xsmean = mat(X1[i,:] - mean1)\n",
    "    sw += xsmean.transpose() * xsmean\n",
    "\n",
    "m0 = np.shape(X0)[0]\n",
    "for i in range(m1):\n",
    "    xsmean = mat(X0[i,:] - mean0)\n",
    "    sw += xsmean.transpose() * xsmean\n",
    "    \n",
    "    \n",
    "# 对于 二分类 LDA来说 w为如下\n",
    "w=(mean0-mean1)*(mat(sw).I)"
   ]
  },
  {
   "cell_type": "code",
   "execution_count": 11,
   "metadata": {},
   "outputs": [
    {
     "data": {
      "text/plain": [
       "matrix([[-0.32878492, -0.58426386]])"
      ]
     },
     "execution_count": 11,
     "metadata": {},
     "output_type": "execute_result"
    }
   ],
   "source": [
    "w"
   ]
  },
  {
   "cell_type": "code",
   "execution_count": 12,
   "metadata": {},
   "outputs": [
    {
     "data": {
      "text/plain": [
       "[<matplotlib.lines.Line2D at 0x111fdf9e8>]"
      ]
     },
     "execution_count": 12,
     "metadata": {},
     "output_type": "execute_result"
    },
    {
     "data": {
      "image/png": "[encoded data removed]",
      "text/plain": [
       "<matplotlib.figure.Figure at 0x112575710>"
      ]
     },
     "metadata": {},
     "output_type": "display_data"
    }
   ],
   "source": [
    "# 画图投影直线\n",
    "plt.scatter(X1[:,0],X1[:,1],c='r')\n",
    "plt.scatter(X0[:,0],X0[:,1],c='g')\n",
    "x=np.arange(0,25,0.1)\n",
    "y=np.array((-w[0,0]*x)/w[0,1])\n",
    "plt.plot(x,y)"
   ]
  }
 ],
 "metadata": {
  "kernelspec": {
   "display_name": "Python 3",
   "language": "python",
   "name": "python3"
  },
  "language_info": {
   "codemirror_mode": {
    "name": "ipython",
    "version": 3
   },
   "file_extension": ".py",
   "mimetype": "text/x-python",
   "name": "python",
   "nbconvert_exporter": "python",
   "pygments_lexer": "ipython3",
   "version": "3.6.1"
  }
 },
 "nbformat": 4,
 "nbformat_minor": 2
}
